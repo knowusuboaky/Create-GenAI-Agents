{
 "cells": [
  {
   "cell_type": "markdown",
   "metadata": {},
   "source": [
    "# Reporting Team"
   ]
  },
  {
   "cell_type": "code",
   "execution_count": 2,
   "metadata": {},
   "outputs": [],
   "source": [
    "#Library of LangAgent\n",
    "#pip install LangAgent==0.3.0"
   ]
  },
  {
   "cell_type": "code",
   "execution_count": 7,
   "metadata": {},
   "outputs": [],
   "source": [
    "# Import agents from all teams\n",
    "#from LangAgent import *"
   ]
  },
  {
   "cell_type": "code",
   "execution_count": 2,
   "metadata": {},
   "outputs": [],
   "source": [
    "## API Keys\n",
    "import yaml\n",
    "import os\n",
    "from langchain_openai import ChatOpenAI\n",
    "from langchain.agents import AgentExecutor, create_openai_tools_agent\n",
    "from langchain_core.prompts import ChatPromptTemplate, MessagesPlaceholder, PromptTemplate\n",
    "from langchain_core.messages import BaseMessage, HumanMessage\n",
    "from langchain_experimental.utilities import PythonREPL\n",
    "\n",
    "\n",
    "PATH_CREDENTIALS = 'credentials.yml'\n",
    "\n",
    "# Load API keys\n",
    "GROQ_API_KEY = yaml.safe_load(open('credentials.yml'))['groq']\n",
    "os.environ['TAVILY_API_KEY'] = yaml.safe_load(open('credentials.yml'))['online']\n",
    "os.environ['OPENWEATHERMAP_API_KEY'] = yaml.safe_load(open('credentials.yml'))['weather']\n",
    "os.environ[\"OPENAI_API_KEY\"] = yaml.safe_load(open('credentials.yml'))['openai']\n",
    "\n",
    "MODEL = \"gpt-4o-mini\"\n",
    "llm = ChatOpenAI(model=MODEL)\n"
   ]
  },
  {
   "cell_type": "markdown",
   "metadata": {},
   "source": [
    "### 1. Summarizer"
   ]
  },
  {
   "cell_type": "code",
   "execution_count": 3,
   "metadata": {},
   "outputs": [
    {
     "name": "stdout",
     "output_type": "stream",
     "text": [
      "---STATE PRINTER---\n"
     ]
    }
   ],
   "source": [
    "from LangAgent.reporting_team.agents import summarizer\n",
    "from langchain_openai import ChatOpenAI\n",
    "\n",
    "summarizer_agent = summarizer(llm=llm) \n",
    "\n",
    "inputs = {\n",
    "    'input_data': 'pdf/NIKE.pdf' # Accepts PDF, PPT, DOCX, TXT and Plain Text\n",
    "}\n",
    "result = summarizer_agent.invoke(inputs)"
   ]
  },
  {
   "cell_type": "code",
   "execution_count": 4,
   "metadata": {},
   "outputs": [
    {
     "name": "stdout",
     "output_type": "stream",
     "text": [
      "# FY24 Q3 Earnings Release Conference Call Summary\n",
      "\n",
      "## Overview\n",
      "1. The fiscal 2024 Q3 earnings call for NIKE, Inc. took place on March 21, 2024, led by Paul Trussell, VP of Corporate Finance and Treasurer.\n",
      "2. Participants included CEO John Donahoe and CFO Matt Friend, discussing the company’s performance and strategic adjustments.\n",
      "3. Acknowledgment of the passing of athlete Kelvin Kiptum, highlighting his impact on the NIKE community.\n",
      "\n",
      "## Q3 Performance Insights\n",
      "1. NIKE’s Q3 results aligned with expectations; however, the company recognizes it is not performing at its full potential.\n",
      "2. The Consumer Direct Acceleration strategy has led to growth but necessitates adjustments in focus areas.\n",
      "3. Key areas for improvement include:\n",
      "   - Sharpening focus on sport.\n",
      "   - Driving continuous product innovation.\n",
      "   - Enhancing brand marketing.\n",
      "   - Strengthening partnerships with wholesale retailers.\n",
      "\n",
      "## Strategic Adjustments\n",
      "1. Organizational restructuring was implemented to prioritize consumer engagement and sports focus.\n",
      "2. Leadership changes included appointing Heidi O’Neill and Craig Williams as co-Presidents.\n",
      "3. Plans for a multiyear cycle of innovation were discussed, intending to refresh the product portfolio for consumers.\n",
      "\n",
      "- **Innovation Highlights**\n",
      "    1. The Air platform is emphasized as a major innovation driver, contributing significantly to revenue.\n",
      "    2. Upcoming products for the Paris Olympics, including advancements in Air technology, are expected to showcase performance benefits.\n",
      "\n",
      "## Financial Performance\n",
      "1. Q3 revenues were slightly up, indicating resilience despite challenges in certain regions.\n",
      "2. Gross margins increased due to strategic pricing and improved supply chain efficiency.\n",
      "3. Earnings per share were reported at $0.77, or $0.98 when excluding restructuring charges.\n",
      "\n",
      "## Regional Performance Overview\n",
      "1. **North America**: Grew 3%, with strong performance in physical retail and reduced inventory levels.\n",
      "2. **EMEA**: Revenue declined by 4%, facing macroeconomic challenges but noting strong product performance in running and fitness.\n",
      "3. **Greater China**: Grew 6%, driven by strong retail sales and successful product launches.\n",
      "4. **APLA**: Revenue grew by 4%, with notable increases in football and basketball categories.\n",
      "\n",
      "## Future Outlook\n",
      "1. Guidance for Q4 includes slight revenue growth, with expectations for continued gross margin expansion.\n",
      "2. Restructuring charges are anticipated to impact SG&A, but overall growth in revenue and earnings is expected in FY25.\n",
      "3. The first half of FY25 may see low single-digit revenue declines due to franchise lifecycle management.\n",
      "\n",
      "## Brand and Innovation Strategy\n",
      "1. NIKE plans to leverage the Olympics as a significant marketing moment, launching the “Air for Athletes” campaign.\n",
      "2. Focus on elevating consumer experiences through enhanced storytelling and retail marketing.\n",
      "3. Continued emphasis on product lifecycle management to foster brand health and innovation scaling.\n",
      "\n",
      "## Wholesale Strategy\n",
      "1. NIKE aims to strengthen relationships with wholesale partners to enhance brand presence and market growth.\n",
      "2. The company acknowledges the need for improved retail experiences and is committed to elevating how products are presented.\n",
      "\n",
      "## Conclusion\n",
      "1. NIKE’s leadership expresses confidence in the company’s future and ongoing commitment to innovation and consumer connection.\n",
      "2. The upcoming Investor Day is expected to provide further insights into NIKE’s long-term growth strategies and financial forecasts.\n"
     ]
    }
   ],
   "source": [
    "print(result['summary'])"
   ]
  },
  {
   "cell_type": "markdown",
   "metadata": {},
   "source": [
    "### NOTE: Interpreter will be used with Supervisor. ----> Check Supervisor Example. "
   ]
  }
 ],
 "metadata": {
  "kernelspec": {
   "display_name": "Python 3",
   "language": "python",
   "name": "python3"
  },
  "language_info": {
   "codemirror_mode": {
    "name": "ipython",
    "version": 3
   },
   "file_extension": ".py",
   "mimetype": "text/x-python",
   "name": "python",
   "nbconvert_exporter": "python",
   "pygments_lexer": "ipython3",
   "version": "3.12.6"
  }
 },
 "nbformat": 4,
 "nbformat_minor": 2
}
