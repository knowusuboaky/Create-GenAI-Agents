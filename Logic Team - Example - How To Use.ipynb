{
 "cells": [
  {
   "cell_type": "markdown",
   "metadata": {},
   "source": [
    "# Logic Team"
   ]
  },
  {
   "cell_type": "code",
   "execution_count": 2,
   "metadata": {},
   "outputs": [],
   "source": [
    "#Library of LangAgent\n",
    "#pip install LangAgent==0.3.0"
   ]
  },
  {
   "cell_type": "code",
   "execution_count": 7,
   "metadata": {},
   "outputs": [],
   "source": [
    "# Import agents from all teams\n",
    "#from LangAgent import *"
   ]
  },
  {
   "cell_type": "code",
   "execution_count": 1,
   "metadata": {},
   "outputs": [],
   "source": [
    "## API Keys\n",
    "import yaml\n",
    "import os\n",
    "from langchain_openai import ChatOpenAI\n",
    "from langchain.agents import AgentExecutor, create_openai_tools_agent\n",
    "from langchain_core.prompts import ChatPromptTemplate, MessagesPlaceholder, PromptTemplate\n",
    "from langchain_core.messages import BaseMessage, HumanMessage\n",
    "\n",
    "\n",
    "PATH_CREDENTIALS = 'credentials.yml'\n",
    "\n",
    "# Load API keys\n",
    "GROQ_API_KEY = yaml.safe_load(open('credentials.yml'))['groq']\n",
    "os.environ['TAVILY_API_KEY'] = yaml.safe_load(open('credentials.yml'))['online']\n",
    "os.environ['OPENWEATHERMAP_API_KEY'] = yaml.safe_load(open('credentials.yml'))['weather']\n",
    "os.environ[\"OPENAI_API_KEY\"] = yaml.safe_load(open('credentials.yml'))['openai']\n",
    "\n",
    "MODEL = \"gpt-4o-mini\"\n",
    "llm = ChatOpenAI(model=MODEL)\n"
   ]
  },
  {
   "cell_type": "markdown",
   "metadata": {},
   "source": [
    "### 1. Reasoner"
   ]
  },
  {
   "cell_type": "code",
   "execution_count": 2,
   "metadata": {},
   "outputs": [],
   "source": [
    "from LangAgent.logic_team.agents import reasoner\n",
    "\n",
    "reasoner_agent = reasoner(llm, system_prompt=None)\n",
    "\n",
    "question = \"\"\" \n",
    "I have a 7 in the tens place. I have an even number in the ones place. I am lower than 74. What number am I?\n",
    "\"\"\"\n",
    "\n",
    "# Solve a logic problem\n",
    "result = reasoner_agent.invoke({\"messages\": [HumanMessage(content=question)]})"
   ]
  },
  {
   "cell_type": "code",
   "execution_count": 3,
   "metadata": {},
   "outputs": [
    {
     "name": "stdout",
     "output_type": "stream",
     "text": [
      "To solve this problem, let's break down the clues step by step:\n",
      "\n",
      "- **Tens place**: The number has a 7 in the tens place, which means it is between 70 and 79.\n",
      "- **Ones place**: The number has an even number in the ones place. The even digits are 0, 2, 4, 6, and 8.\n",
      "- **Lower than 74**: The number must be less than 74.\n",
      "\n",
      "Now, let's combine these clues:\n",
      "\n",
      "1. The possible numbers with a 7 in the tens place and an even ones digit are:\n",
      "   - 70\n",
      "   - 72\n",
      "   - 74\n",
      "   - 76\n",
      "   - 78\n",
      "\n",
      "2. Based on the condition that the number must be lower than 74, we can eliminate 74, 76, and 78 from our list.\n",
      "\n",
      "3. The remaining possible numbers are:\n",
      "   - 70\n",
      "   - 72\n",
      "\n",
      "4. Both of these numbers (70 and 72) fit all the criteria provided (tens place, even ones digit, and being less than 74).\n",
      "\n",
      "Therefore, the possible numbers are 70 and 72. However, since the question asks for \"What number am I,\" referring to a single number, we can conclude:\n",
      "\n",
      "- **Final Answer**: 70 or 72 (either is correct based on the provided clues).\n"
     ]
    }
   ],
   "source": [
    "print(result['output'])"
   ]
  },
  {
   "cell_type": "markdown",
   "metadata": {},
   "source": [
    "### 2. Calculator"
   ]
  },
  {
   "cell_type": "code",
   "execution_count": 4,
   "metadata": {},
   "outputs": [],
   "source": [
    "from LangAgent.logic_team.agents import calculator\n",
    "\n",
    "calculator_agent = calculator(llm, system_prompt=None)\n",
    "\n",
    "question = \"\"\" \n",
    "Calculate the square root of 16\n",
    "\"\"\"\n",
    "\n",
    "# Solve a logic problem\n",
    "result = reasoner_agent.invoke({\"messages\": [HumanMessage(content=question)]})"
   ]
  },
  {
   "cell_type": "code",
   "execution_count": 5,
   "metadata": {},
   "outputs": [
    {
     "name": "stdout",
     "output_type": "stream",
     "text": [
      "- The square root of a number \\( x \\) is a value \\( y \\) such that \\( y^2 = x \\).\n",
      "- In this case, we are looking for the square root of 16.\n",
      "- We need to find a number \\( y \\) such that \\( y^2 = 16 \\).\n",
      "- The number that satisfies this equation is \\( y = 4 \\) because \\( 4^2 = 16 \\).\n",
      "\n",
      "Final answer: The square root of 16 is 4.\n"
     ]
    }
   ],
   "source": [
    "print(result['output'])"
   ]
  }
 ],
 "metadata": {
  "kernelspec": {
   "display_name": "Python 3",
   "language": "python",
   "name": "python3"
  },
  "language_info": {
   "codemirror_mode": {
    "name": "ipython",
    "version": 3
   },
   "file_extension": ".py",
   "mimetype": "text/x-python",
   "name": "python",
   "nbconvert_exporter": "python",
   "pygments_lexer": "ipython3",
   "version": "3.12.6"
  }
 },
 "nbformat": 4,
 "nbformat_minor": 2
}
